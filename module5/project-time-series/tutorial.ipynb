{
 "cells": [
  {
   "cell_type": "code",
   "execution_count": 1,
   "metadata": {},
   "outputs": [],
   "source": [
    "import torch\n",
    "import numpy as np\n",
    "import pandas as pd\n",
    "from sklearn.model_selection import train_test_split\n",
    "\n",
    "import torch\n",
    "import torch.nn as nn\n",
    "from torch.utils.data import Dataset, DataLoader"
   ]
  },
  {
   "cell_type": "code",
   "execution_count": 2,
   "metadata": {},
   "outputs": [],
   "source": [
    "EPOCHS = 50\n",
    "LEARNING_RATE = 0.001\n",
    "BATCH_SIZE = 32\n",
    "SEED = 42\n",
    "TRAIN_VAL_TEST_SPLIT = [0.7, 0.2, 0.1]\n",
    "\n",
    "N_FEATURES = 5\n",
    "HIDDEN_SIZE = 128\n",
    "N_LAYERS = 2\n",
    "N_OUTPUTS = 1"
   ]
  },
  {
   "attachments": {},
   "cell_type": "markdown",
   "metadata": {},
   "source": [
    "## Data Preprocessing"
   ]
  },
  {
   "cell_type": "code",
   "execution_count": 3,
   "metadata": {},
   "outputs": [
    {
     "data": {
      "text/html": [
       "<div>\n",
       "<style scoped>\n",
       "    .dataframe tbody tr th:only-of-type {\n",
       "        vertical-align: middle;\n",
       "    }\n",
       "\n",
       "    .dataframe tbody tr th {\n",
       "        vertical-align: top;\n",
       "    }\n",
       "\n",
       "    .dataframe thead th {\n",
       "        text-align: right;\n",
       "    }\n",
       "</style>\n",
       "<table border=\"1\" class=\"dataframe\">\n",
       "  <thead>\n",
       "    <tr style=\"text-align: right;\">\n",
       "      <th></th>\n",
       "      <th>date</th>\n",
       "      <th>close</th>\n",
       "      <th>volume</th>\n",
       "      <th>open</th>\n",
       "      <th>high</th>\n",
       "      <th>low</th>\n",
       "    </tr>\n",
       "  </thead>\n",
       "  <tbody>\n",
       "    <tr>\n",
       "      <th>0</th>\n",
       "      <td>11:34</td>\n",
       "      <td>270.49</td>\n",
       "      <td>4,787,699</td>\n",
       "      <td>264.50</td>\n",
       "      <td>273.88</td>\n",
       "      <td>262.2400</td>\n",
       "    </tr>\n",
       "    <tr>\n",
       "      <th>1</th>\n",
       "      <td>2018/10/15</td>\n",
       "      <td>259.59</td>\n",
       "      <td>6189026.0000</td>\n",
       "      <td>259.06</td>\n",
       "      <td>263.28</td>\n",
       "      <td>254.5367</td>\n",
       "    </tr>\n",
       "    <tr>\n",
       "      <th>2</th>\n",
       "      <td>2018/10/12</td>\n",
       "      <td>258.78</td>\n",
       "      <td>7189257.0000</td>\n",
       "      <td>261.00</td>\n",
       "      <td>261.99</td>\n",
       "      <td>252.0100</td>\n",
       "    </tr>\n",
       "    <tr>\n",
       "      <th>3</th>\n",
       "      <td>2018/10/11</td>\n",
       "      <td>252.23</td>\n",
       "      <td>8128184.0000</td>\n",
       "      <td>257.53</td>\n",
       "      <td>262.25</td>\n",
       "      <td>249.0300</td>\n",
       "    </tr>\n",
       "    <tr>\n",
       "      <th>4</th>\n",
       "      <td>2018/10/10</td>\n",
       "      <td>256.88</td>\n",
       "      <td>12781560.0000</td>\n",
       "      <td>264.61</td>\n",
       "      <td>265.51</td>\n",
       "      <td>247.7700</td>\n",
       "    </tr>\n",
       "  </tbody>\n",
       "</table>\n",
       "</div>"
      ],
      "text/plain": [
       "         date   close         volume    open    high       low\n",
       "0       11:34  270.49      4,787,699  264.50  273.88  262.2400\n",
       "1  2018/10/15  259.59   6189026.0000  259.06  263.28  254.5367\n",
       "2  2018/10/12  258.78   7189257.0000  261.00  261.99  252.0100\n",
       "3  2018/10/11  252.23   8128184.0000  257.53  262.25  249.0300\n",
       "4  2018/10/10  256.88  12781560.0000  264.61  265.51  247.7700"
      ]
     },
     "execution_count": 3,
     "metadata": {},
     "output_type": "execute_result"
    }
   ],
   "source": [
    "df = pd.read_csv(\"./data/tesla-stock-price.csv\")\n",
    "df.head()"
   ]
  },
  {
   "cell_type": "code",
   "execution_count": 4,
   "metadata": {},
   "outputs": [
    {
     "name": "stdout",
     "output_type": "stream",
     "text": [
      "Target index: 0\n"
     ]
    },
    {
     "data": {
      "text/html": [
       "<div>\n",
       "<style scoped>\n",
       "    .dataframe tbody tr th:only-of-type {\n",
       "        vertical-align: middle;\n",
       "    }\n",
       "\n",
       "    .dataframe tbody tr th {\n",
       "        vertical-align: top;\n",
       "    }\n",
       "\n",
       "    .dataframe thead th {\n",
       "        text-align: right;\n",
       "    }\n",
       "</style>\n",
       "<table border=\"1\" class=\"dataframe\">\n",
       "  <thead>\n",
       "    <tr style=\"text-align: right;\">\n",
       "      <th></th>\n",
       "      <th>close</th>\n",
       "      <th>volume</th>\n",
       "      <th>open</th>\n",
       "      <th>high</th>\n",
       "      <th>low</th>\n",
       "    </tr>\n",
       "  </thead>\n",
       "  <tbody>\n",
       "    <tr>\n",
       "      <th>0</th>\n",
       "      <td>-0.036925</td>\n",
       "      <td>-0.353463</td>\n",
       "      <td>-0.141329</td>\n",
       "      <td>-0.054781</td>\n",
       "      <td>-0.100449</td>\n",
       "    </tr>\n",
       "    <tr>\n",
       "      <th>1</th>\n",
       "      <td>-0.223637</td>\n",
       "      <td>0.010910</td>\n",
       "      <td>-0.234400</td>\n",
       "      <td>-0.233851</td>\n",
       "      <td>-0.234383</td>\n",
       "    </tr>\n",
       "    <tr>\n",
       "      <th>2</th>\n",
       "      <td>-0.237512</td>\n",
       "      <td>0.270990</td>\n",
       "      <td>-0.201209</td>\n",
       "      <td>-0.255644</td>\n",
       "      <td>-0.278313</td>\n",
       "    </tr>\n",
       "    <tr>\n",
       "      <th>3</th>\n",
       "      <td>-0.349711</td>\n",
       "      <td>0.515130</td>\n",
       "      <td>-0.260577</td>\n",
       "      <td>-0.251252</td>\n",
       "      <td>-0.330125</td>\n",
       "    </tr>\n",
       "    <tr>\n",
       "      <th>4</th>\n",
       "      <td>-0.270058</td>\n",
       "      <td>1.725101</td>\n",
       "      <td>-0.139447</td>\n",
       "      <td>-0.196179</td>\n",
       "      <td>-0.352032</td>\n",
       "    </tr>\n",
       "  </tbody>\n",
       "</table>\n",
       "</div>"
      ],
      "text/plain": [
       "      close    volume      open      high       low\n",
       "0 -0.036925 -0.353463 -0.141329 -0.054781 -0.100449\n",
       "1 -0.223637  0.010910 -0.234400 -0.233851 -0.234383\n",
       "2 -0.237512  0.270990 -0.201209 -0.255644 -0.278313\n",
       "3 -0.349711  0.515130 -0.260577 -0.251252 -0.330125\n",
       "4 -0.270058  1.725101 -0.139447 -0.196179 -0.352032"
      ]
     },
     "execution_count": 4,
     "metadata": {},
     "output_type": "execute_result"
    }
   ],
   "source": [
    "if \"date\" in df.columns:\n",
    "    df.drop([\"date\"], axis=1, inplace=True)\n",
    "target_idx = df.columns.get_loc(\"close\")\n",
    "print(f\"Target index: {target_idx}\")\n",
    "\n",
    "for col in df.columns:\n",
    "    df[col] = df[col].replace(\",\", \"\", regex=True).astype(float)\n",
    "\n",
    "mean = df.mean()\n",
    "std = df.std()\n",
    "\n",
    "# normalize data\n",
    "df = df.astype(float)\n",
    "df = (df - mean) / std\n",
    "df.head()"
   ]
  },
  {
   "cell_type": "code",
   "execution_count": 5,
   "metadata": {},
   "outputs": [],
   "source": [
    "def sliding_window(data, window_size, window_step):\n",
    "    \"\"\"Sliding window over a sequence of data.\n",
    "\n",
    "    Args:\n",
    "        data (list or dataframe): Data to be sliced.\n",
    "        window_size (int): Size of the window.\n",
    "        window_step (int): Step size of the window.\n",
    "    \"\"\"\n",
    "    n = len(data)\n",
    "    result = []\n",
    "    for i in range(0, n - window_size + 1, window_step):\n",
    "        result.append(np.array(data[i : i + window_size]))\n",
    "    return result\n",
    "\n",
    "\n",
    "data = sliding_window(df, 11, 1)"
   ]
  },
  {
   "cell_type": "code",
   "execution_count": 6,
   "metadata": {},
   "outputs": [
    {
     "data": {
      "text/plain": [
       "(747, 11, 5)"
      ]
     },
     "execution_count": 6,
     "metadata": {},
     "output_type": "execute_result"
    }
   ],
   "source": [
    "data = np.array(data)\n",
    "data.shape"
   ]
  },
  {
   "cell_type": "code",
   "execution_count": 7,
   "metadata": {},
   "outputs": [
    {
     "name": "stdout",
     "output_type": "stream",
     "text": [
      "Data[0].shape: (11, 5)\n",
      "[[-0.03692474 -0.35346272 -0.14132905 -0.05478147 -0.10044902]\n",
      " [-0.22363705  0.01091026 -0.23440033 -0.23385137 -0.2343828 ]\n",
      " [-0.237512    0.27099029 -0.20120947 -0.25564384 -0.27831339]\n",
      " [-0.34971067  0.51513005 -0.26057662 -0.25125156 -0.33012529]\n",
      " [-0.27005818  1.72510068 -0.1394471  -0.19617912 -0.35203234]\n",
      " [-0.16865113  1.53170304 -0.29958444 -0.17489345 -0.25588474]\n",
      " [-0.37831705  1.87841365 -0.14098688 -0.15817069 -0.33064689]\n",
      " [-0.18321126  3.05618185  0.03232416 -0.03788808 -0.13939488]\n",
      " [ 0.15732457  0.90794246  0.36252188  0.28511348  0.16782539]\n",
      " [ 0.37949508  0.47719001  0.5230014   0.46418338  0.40949838]\n",
      " [ 0.486041    1.44379289  0.70469569  0.67095844  0.5412884 ]]\n"
     ]
    }
   ],
   "source": [
    "print(f\"Data[0].shape: {data[0].shape}\")\n",
    "print(data[0])"
   ]
  },
  {
   "cell_type": "code",
   "execution_count": 8,
   "metadata": {},
   "outputs": [],
   "source": [
    "class TelsaStockDataset(Dataset):\n",
    "    def __init__(self, X, y):\n",
    "        self.X = X\n",
    "        self.y = y\n",
    "\n",
    "    def __len__(self):\n",
    "        return len(self.X)\n",
    "\n",
    "    def __getitem__(self, idx):\n",
    "        x = self.X[idx]\n",
    "        y = self.y[idx]\n",
    "        return torch.from_numpy(x).float(), torch.from_numpy(y).float()"
   ]
  },
  {
   "attachments": {},
   "cell_type": "markdown",
   "metadata": {},
   "source": [
    "## Model"
   ]
  },
  {
   "cell_type": "code",
   "execution_count": 9,
   "metadata": {},
   "outputs": [],
   "source": [
    "class ForecastModel(nn.Module):\n",
    "    def __init__(self, n_features, n_hidden, n_layers=2, batch_first=True):\n",
    "        super(ForecastModel, self).__init__()\n",
    "        self.n_hidden = n_hidden\n",
    "        self.n_layers = n_layers\n",
    "        self.batch_first = batch_first\n",
    "\n",
    "        self.lstm = nn.LSTM(\n",
    "            input_size=n_features,\n",
    "            hidden_size=n_hidden,\n",
    "            num_layers=n_layers,\n",
    "            dropout=0.5,\n",
    "            batch_first=batch_first,\n",
    "        )\n",
    "        self.fc1 = nn.Linear(in_features=n_hidden, out_features=n_hidden // 2)\n",
    "        self.batchnorm = nn.BatchNorm1d(n_hidden // 2)\n",
    "        self.activation = nn.ReLU()\n",
    "        self.fc2 = nn.Linear(in_features=n_hidden // 2, out_features=1)\n",
    "\n",
    "    def forward(self, x):\n",
    "        lstm_out, (h_n, c_n) = self.lstm(x)\n",
    "        if self.batch_first:\n",
    "            lstm_out = lstm_out[:, -1, :]\n",
    "        else:\n",
    "            lstm_out = lstm_out[-1, :, :]\n",
    "        lstm_out = lstm_out.view(-1, self.n_hidden).contiguous()\n",
    "        out = self.fc1(lstm_out)\n",
    "        out = self.batchnorm(out)\n",
    "        out = self.activation(out)\n",
    "        out = self.fc2(out)\n",
    "        return out\n",
    "\n",
    "    def predict(self, x):\n",
    "        self.eval()\n",
    "        with torch.no_grad():\n",
    "            x = self.forward(x)\n",
    "        return x"
   ]
  },
  {
   "cell_type": "code",
   "execution_count": 10,
   "metadata": {},
   "outputs": [
    {
     "data": {
      "text/plain": [
       "ForecastModel(\n",
       "  (lstm): LSTM(5, 128, num_layers=2, batch_first=True, dropout=0.5)\n",
       "  (fc1): Linear(in_features=128, out_features=64, bias=True)\n",
       "  (batchnorm): BatchNorm1d(64, eps=1e-05, momentum=0.1, affine=True, track_running_stats=True)\n",
       "  (activation): ReLU()\n",
       "  (fc2): Linear(in_features=64, out_features=1, bias=True)\n",
       ")"
      ]
     },
     "execution_count": 10,
     "metadata": {},
     "output_type": "execute_result"
    }
   ],
   "source": [
    "model = ForecastModel(n_features=5, n_hidden=128, n_layers=2, batch_first=True)\n",
    "model"
   ]
  },
  {
   "attachments": {},
   "cell_type": "markdown",
   "metadata": {},
   "source": [
    "## Training"
   ]
  },
  {
   "cell_type": "code",
   "execution_count": 11,
   "metadata": {},
   "outputs": [],
   "source": [
    "def train_fn(model, dataloader, optimizer, criterion, device):\n",
    "    model.train()\n",
    "    model = model.to(device)\n",
    "    losses = []\n",
    "    for batch_idx, (data, target) in enumerate(dataloader):\n",
    "        data = data.to(device)\n",
    "        target = target.to(device)\n",
    "\n",
    "        output = model(data)\n",
    "        optimizer.zero_grad()\n",
    "        loss = criterion(output, target)\n",
    "        loss.backward()\n",
    "        optimizer.step()\n",
    "\n",
    "        losses.append(loss.item())\n",
    "\n",
    "    return sum(losses) / len(losses)\n",
    "\n",
    "\n",
    "def eval_fn(model, dataloader, criterion, device):\n",
    "    model.eval()\n",
    "    model = model.to(device)\n",
    "    losses = []\n",
    "    for batch_idx, (data, target) in enumerate(dataloader):\n",
    "        data = data.to(device)\n",
    "        target = target.to(device)\n",
    "\n",
    "        output = model(data)\n",
    "        loss = criterion(output, target)\n",
    "\n",
    "        losses.append(loss.item())\n",
    "\n",
    "    return sum(losses) / len(losses)"
   ]
  },
  {
   "cell_type": "code",
   "execution_count": 12,
   "metadata": {},
   "outputs": [
    {
     "name": "stdout",
     "output_type": "stream",
     "text": [
      "X.shape: (747, 10, 5)\n",
      "y.shape: (747, 1)\n",
      "X_train.shape: (522, 10, 5)\n",
      "X_val.shape: (150, 10, 5)\n",
      "X_test.shape: (75, 10, 5)\n"
     ]
    }
   ],
   "source": [
    "# use target_idx to get the target column\n",
    "X = data[:, :-1, :]\n",
    "y = data[:, -1, target_idx : target_idx + 1]\n",
    "print(f\"X.shape: {X.shape}\")\n",
    "print(f\"y.shape: {y.shape}\")\n",
    "\n",
    "# train/val/test split\n",
    "X_train, X_test, y_train, y_test = train_test_split(\n",
    "    X, y, test_size=TRAIN_VAL_TEST_SPLIT[2], random_state=SEED\n",
    ")\n",
    "X_train, X_val, y_train, y_val = train_test_split(\n",
    "    X_train,\n",
    "    y_train,\n",
    "    test_size=TRAIN_VAL_TEST_SPLIT[1]\n",
    "    / (TRAIN_VAL_TEST_SPLIT[0] + TRAIN_VAL_TEST_SPLIT[1]),\n",
    "    random_state=SEED,\n",
    ")\n",
    "print(f\"X_train.shape: {X_train.shape}\")\n",
    "print(f\"X_val.shape: {X_val.shape}\")\n",
    "print(f\"X_test.shape: {X_test.shape}\")"
   ]
  },
  {
   "cell_type": "code",
   "execution_count": 13,
   "metadata": {},
   "outputs": [],
   "source": [
    "train_dataset = TelsaStockDataset(X_train, y_train)\n",
    "val_dataset = TelsaStockDataset(X_val, y_val)\n",
    "test_dataset = TelsaStockDataset(X_test, y_test)\n",
    "\n",
    "train_dataloader = DataLoader(train_dataset, batch_size=BATCH_SIZE, shuffle=True)\n",
    "val_dataloader = DataLoader(val_dataset, batch_size=BATCH_SIZE, shuffle=False)\n",
    "test_dataloader = DataLoader(test_dataset, batch_size=BATCH_SIZE, shuffle=False)"
   ]
  },
  {
   "cell_type": "code",
   "execution_count": 14,
   "metadata": {},
   "outputs": [],
   "source": [
    "device = torch.device(\"cuda\" if torch.cuda.is_available() else \"cpu\")\n",
    "model = ForecastModel(\n",
    "    n_features=N_FEATURES, n_hidden=HIDDEN_SIZE, n_layers=N_LAYERS, batch_first=True\n",
    ")\n",
    "\n",
    "optimizer = torch.optim.Adam(model.parameters(), lr=LEARNING_RATE)\n",
    "criterion = nn.MSELoss(reduction=\"sum\")"
   ]
  },
  {
   "cell_type": "code",
   "execution_count": 15,
   "metadata": {},
   "outputs": [
    {
     "name": "stdout",
     "output_type": "stream",
     "text": [
      "Epoch: 1/50, Train Loss: 8.1533, Val Loss: 25.4065\n",
      "Epoch: 2/50, Train Loss: 1.8171, Val Loss: 18.3795\n",
      "Epoch: 3/50, Train Loss: 1.9094, Val Loss: 6.5175\n",
      "Epoch: 4/50, Train Loss: 1.8291, Val Loss: 2.2499\n",
      "Epoch: 5/50, Train Loss: 1.9262, Val Loss: 0.8805\n",
      "Epoch: 6/50, Train Loss: 1.6164, Val Loss: 0.7659\n",
      "Epoch: 7/50, Train Loss: 2.0855, Val Loss: 0.7850\n",
      "Epoch: 8/50, Train Loss: 1.7813, Val Loss: 0.8772\n",
      "Epoch: 9/50, Train Loss: 2.5042, Val Loss: 0.7929\n",
      "Epoch: 10/50, Train Loss: 1.8773, Val Loss: 1.3609\n",
      "Epoch: 11/50, Train Loss: 1.9212, Val Loss: 0.6681\n",
      "Epoch: 12/50, Train Loss: 1.4209, Val Loss: 0.6037\n",
      "Epoch: 13/50, Train Loss: 2.0465, Val Loss: 0.7854\n",
      "Epoch: 14/50, Train Loss: 1.3093, Val Loss: 0.5986\n",
      "Epoch: 15/50, Train Loss: 1.6894, Val Loss: 0.7662\n",
      "Epoch: 16/50, Train Loss: 1.3813, Val Loss: 0.6467\n",
      "Epoch: 17/50, Train Loss: 1.4611, Val Loss: 1.1185\n",
      "Epoch: 18/50, Train Loss: 2.2517, Val Loss: 0.7907\n",
      "Epoch: 19/50, Train Loss: 1.5052, Val Loss: 0.5962\n",
      "Epoch: 20/50, Train Loss: 1.4594, Val Loss: 0.6516\n",
      "Epoch: 21/50, Train Loss: 1.4436, Val Loss: 0.4837\n",
      "Epoch: 22/50, Train Loss: 1.1658, Val Loss: 0.4865\n",
      "Epoch: 23/50, Train Loss: 1.2157, Val Loss: 0.6756\n",
      "Epoch: 24/50, Train Loss: 1.1904, Val Loss: 0.5580\n",
      "Epoch: 25/50, Train Loss: 0.9791, Val Loss: 0.7416\n",
      "Epoch: 26/50, Train Loss: 1.9102, Val Loss: 0.7590\n",
      "Epoch: 27/50, Train Loss: 1.1289, Val Loss: 0.5579\n",
      "Epoch: 28/50, Train Loss: 1.9049, Val Loss: 0.7788\n",
      "Epoch: 29/50, Train Loss: 1.2594, Val Loss: 0.5444\n",
      "Epoch: 30/50, Train Loss: 1.9618, Val Loss: 0.7174\n",
      "Epoch: 31/50, Train Loss: 1.4612, Val Loss: 0.5348\n",
      "Epoch: 32/50, Train Loss: 1.2648, Val Loss: 0.7093\n",
      "Epoch: 33/50, Train Loss: 1.6186, Val Loss: 0.3827\n",
      "Epoch: 34/50, Train Loss: 1.1473, Val Loss: 0.4066\n",
      "Epoch: 35/50, Train Loss: 1.4415, Val Loss: 0.4174\n",
      "Epoch: 36/50, Train Loss: 1.1419, Val Loss: 0.3927\n",
      "Epoch: 37/50, Train Loss: 1.3387, Val Loss: 0.5743\n",
      "Epoch: 38/50, Train Loss: 0.9790, Val Loss: 0.3551\n",
      "Epoch: 39/50, Train Loss: 1.3052, Val Loss: 1.1106\n",
      "Epoch: 40/50, Train Loss: 1.3100, Val Loss: 0.7313\n",
      "Epoch: 41/50, Train Loss: 1.6327, Val Loss: 0.3825\n",
      "Epoch: 42/50, Train Loss: 1.0523, Val Loss: 0.3652\n",
      "Epoch: 43/50, Train Loss: 1.1574, Val Loss: 0.3983\n",
      "Epoch: 44/50, Train Loss: 1.4075, Val Loss: 0.5848\n",
      "Epoch: 45/50, Train Loss: 1.5876, Val Loss: 0.6791\n",
      "Epoch: 46/50, Train Loss: 1.5712, Val Loss: 0.4108\n",
      "Epoch: 47/50, Train Loss: 1.2142, Val Loss: 0.4420\n",
      "Epoch: 48/50, Train Loss: 1.2520, Val Loss: 0.4783\n",
      "Epoch: 49/50, Train Loss: 1.3143, Val Loss: 0.4600\n",
      "Epoch: 50/50, Train Loss: 1.0870, Val Loss: 0.5898\n"
     ]
    }
   ],
   "source": [
    "train_losses = []\n",
    "val_losses = []\n",
    "\n",
    "for epoch in range(EPOCHS):\n",
    "    train_loss = train_fn(model, train_dataloader, optimizer, criterion, device)\n",
    "    val_loss = eval_fn(model, val_dataloader, criterion, device)\n",
    "\n",
    "    train_losses.append(train_loss)\n",
    "    val_losses.append(val_loss)\n",
    "\n",
    "    print(\n",
    "        f\"Epoch: {epoch+1}/{EPOCHS}, Train Loss: {train_loss:.4f}, Val Loss: {val_loss:.4f}\"\n",
    "    )"
   ]
  },
  {
   "cell_type": "code",
   "execution_count": 16,
   "metadata": {},
   "outputs": [
    {
     "data": {
      "image/png": "[encoded data removed]",
      "text/plain": [
       "<Figure size 640x480 with 1 Axes>"
      ]
     },
     "metadata": {},
     "output_type": "display_data"
    }
   ],
   "source": [
    "import matplotlib.pyplot as plt\n",
    "\n",
    "plt.plot(train_losses, label=\"train\")\n",
    "plt.plot(val_losses, label=\"val\")\n",
    "plt.legend()\n",
    "plt.show()"
   ]
  },
  {
   "attachments": {},
   "cell_type": "markdown",
   "metadata": {},
   "source": [
    "## Test"
   ]
  },
  {
   "cell_type": "code",
   "execution_count": 17,
   "metadata": {},
   "outputs": [
    {
     "name": "stdout",
     "output_type": "stream",
     "text": [
      "Test Loss: 0.3312\n"
     ]
    }
   ],
   "source": [
    "test_loss = eval_fn(model, test_dataloader, criterion, device)\n",
    "print(f\"Test Loss: {test_loss:.4f}\")"
   ]
  },
  {
   "cell_type": "code",
   "execution_count": 20,
   "metadata": {},
   "outputs": [
    {
     "data": {
      "image/png": "[encoded data removed]",
      "text/plain": [
       "<Figure size 640x480 with 1 Axes>"
      ]
     },
     "metadata": {},
     "output_type": "display_data"
    }
   ],
   "source": [
    "def visualize_predictions(model, dataloader, device, target_idx, mean, std):\n",
    "    model.eval()\n",
    "    model = model.to(device)\n",
    "    ground_truth = []\n",
    "    predictions = []\n",
    "\n",
    "    # plot the test true value and predicted value\n",
    "    for batch_idx, (X_test, y_test) in enumerate(dataloader):\n",
    "        X_test = X_test.to(device)\n",
    "        y_test = y_test.to(device)\n",
    "\n",
    "        with torch.no_grad():\n",
    "            y_pred = model.predict(X_test)\n",
    "\n",
    "        y_pred = y_pred.detach().cpu().numpy()\n",
    "        y_test = y_test.detach().cpu().numpy()\n",
    "        y_pred = y_pred * std[target_idx] + mean[target_idx]\n",
    "        y_test = y_test * std[target_idx] + mean[target_idx]\n",
    "        ground_truth.extend(y_test)\n",
    "        predictions.extend(y_pred)\n",
    "\n",
    "    plt.plot(ground_truth, label=\"true\")\n",
    "    plt.plot(predictions, label=\"pred\")\n",
    "    plt.legend()\n",
    "    plt.show()\n",
    "\n",
    "\n",
    "visualize_predictions(model, test_dataloader, device, target_idx, mean, std)"
   ]
  },
  {
   "cell_type": "code",
   "execution_count": null,
   "metadata": {},
   "outputs": [],
   "source": []
  }
 ],
 "metadata": {
  "kernelspec": {
   "display_name": "aio",
   "language": "python",
   "name": "python3"
  },
  "language_info": {
   "codemirror_mode": {
    "name": "ipython",
    "version": 3
   },
   "file_extension": ".py",
   "mimetype": "text/x-python",
   "name": "python",
   "nbconvert_exporter": "python",
   "pygments_lexer": "ipython3",
   "version": "3.8.16"
  },
  "orig_nbformat": 4,
  "vscode": {
   "interpreter": {
    "hash": "c4b1d2403d5bedfc2b499b2d1212ae0437b5f8ebf43026ed45c1b9608ddeb20c"
   }
  }
 },
 "nbformat": 4,
 "nbformat_minor": 2
}
